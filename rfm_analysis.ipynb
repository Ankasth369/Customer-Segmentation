{
 "cells": [
  {
   "cell_type": "markdown",
   "id": "74a8401d",
   "metadata": {},
   "source": [
    "# What is RFM Analysis?\n",
    "RFM analysis is a marketing technique used to quantitatively rank and group customers based on the recency, frequency and monetary total of their recent transactions to identify the best customers and perform targeted marketing campaigns."
   ]
  },
  {
   "cell_type": "markdown",
   "id": "260893c5",
   "metadata": {},
   "source": [
    "# The three components of RFM analysis:\n",
    "- **Recency(R)**: Recency measures how recently a customer made a purchase. Recency matters because it serves as an engagement indicator, showing that customers who purchased recently are more likely to engage with your marketing campaigns. It also acts as a retention predictor, as recent buyers are more likely to return. Additionally, high recency scores allow you to target customers with personalized messages and offers, maximizing the chances of repeat purchases.\n",
    "- **Frequency(F)**: Frequency measures how often a customer makes a purchase within a specified time period. It helps identify your loyal repeat buyers. Frequent buyers provide consistent revenue streams, making them valuable to your business. Moreover, customers with high frequency are more likely to respond positively to upsell and cross-sell opportunities, further boosting your revenue.\n",
    "- **Monetary Value(M)**: Monetary Value measures the total amount of money a customer has spent within a specified time period. It helps identify high-value customers who contribute significantly to your revenue. "
   ]
  },
  {
   "cell_type": "markdown",
   "id": "0c2cf0cf",
   "metadata": {},
   "source": [
    "# RFM Analysis\n",
    "This notebook performs Recency, Frequency, Monetary (RFM) segmentation on retail transaction data and derives actionable insights for business decisions. We assign a RFM score to each person. The RFM score is a numerical score that helps us to recognize all types of customers, from the best to the worst."
   ]
  },
  {
   "cell_type": "code",
   "execution_count": 1,
   "id": "757c9161",
   "metadata": {},
   "outputs": [],
   "source": [
    "import pandas as pd\n",
    "import numpy as np\n",
    "from datetime import timedelta\n"
   ]
  },
  {
   "cell_type": "code",
   "execution_count": 2,
   "id": "4b18c86e",
   "metadata": {},
   "outputs": [
    {
     "data": {
      "text/html": [
       "<div>\n",
       "<style scoped>\n",
       "    .dataframe tbody tr th:only-of-type {\n",
       "        vertical-align: middle;\n",
       "    }\n",
       "\n",
       "    .dataframe tbody tr th {\n",
       "        vertical-align: top;\n",
       "    }\n",
       "\n",
       "    .dataframe thead th {\n",
       "        text-align: right;\n",
       "    }\n",
       "</style>\n",
       "<table border=\"1\" class=\"dataframe\">\n",
       "  <thead>\n",
       "    <tr style=\"text-align: right;\">\n",
       "      <th></th>\n",
       "      <th>InvoiceNo</th>\n",
       "      <th>StockCode</th>\n",
       "      <th>Description</th>\n",
       "      <th>Quantity</th>\n",
       "      <th>InvoiceDate</th>\n",
       "      <th>UnitPrice</th>\n",
       "      <th>CustomerID</th>\n",
       "      <th>Country</th>\n",
       "      <th>Revenue</th>\n",
       "    </tr>\n",
       "  </thead>\n",
       "  <tbody>\n",
       "    <tr>\n",
       "      <th>0</th>\n",
       "      <td>536365</td>\n",
       "      <td>85123A</td>\n",
       "      <td>WHITE HANGING HEART T-LIGHT HOLDER</td>\n",
       "      <td>6</td>\n",
       "      <td>2010-01-12 08:26:00</td>\n",
       "      <td>2.55</td>\n",
       "      <td>17850.0</td>\n",
       "      <td>United Kingdom</td>\n",
       "      <td>15.30</td>\n",
       "    </tr>\n",
       "    <tr>\n",
       "      <th>1</th>\n",
       "      <td>536365</td>\n",
       "      <td>71053</td>\n",
       "      <td>WHITE METAL LANTERN</td>\n",
       "      <td>6</td>\n",
       "      <td>2010-01-12 08:26:00</td>\n",
       "      <td>3.39</td>\n",
       "      <td>17850.0</td>\n",
       "      <td>United Kingdom</td>\n",
       "      <td>20.34</td>\n",
       "    </tr>\n",
       "    <tr>\n",
       "      <th>2</th>\n",
       "      <td>536365</td>\n",
       "      <td>84406B</td>\n",
       "      <td>CREAM CUPID HEARTS COAT HANGER</td>\n",
       "      <td>8</td>\n",
       "      <td>2010-01-12 08:26:00</td>\n",
       "      <td>2.75</td>\n",
       "      <td>17850.0</td>\n",
       "      <td>United Kingdom</td>\n",
       "      <td>22.00</td>\n",
       "    </tr>\n",
       "    <tr>\n",
       "      <th>3</th>\n",
       "      <td>536365</td>\n",
       "      <td>84029G</td>\n",
       "      <td>KNITTED UNION FLAG HOT WATER BOTTLE</td>\n",
       "      <td>6</td>\n",
       "      <td>2010-01-12 08:26:00</td>\n",
       "      <td>3.39</td>\n",
       "      <td>17850.0</td>\n",
       "      <td>United Kingdom</td>\n",
       "      <td>20.34</td>\n",
       "    </tr>\n",
       "    <tr>\n",
       "      <th>4</th>\n",
       "      <td>536365</td>\n",
       "      <td>84029E</td>\n",
       "      <td>RED WOOLLY HOTTIE WHITE HEART.</td>\n",
       "      <td>6</td>\n",
       "      <td>2010-01-12 08:26:00</td>\n",
       "      <td>3.39</td>\n",
       "      <td>17850.0</td>\n",
       "      <td>United Kingdom</td>\n",
       "      <td>20.34</td>\n",
       "    </tr>\n",
       "  </tbody>\n",
       "</table>\n",
       "</div>"
      ],
      "text/plain": [
       "  InvoiceNo StockCode                          Description  Quantity  \\\n",
       "0    536365    85123A   WHITE HANGING HEART T-LIGHT HOLDER         6   \n",
       "1    536365     71053                  WHITE METAL LANTERN         6   \n",
       "2    536365    84406B       CREAM CUPID HEARTS COAT HANGER         8   \n",
       "3    536365    84029G  KNITTED UNION FLAG HOT WATER BOTTLE         6   \n",
       "4    536365    84029E       RED WOOLLY HOTTIE WHITE HEART.         6   \n",
       "\n",
       "          InvoiceDate  UnitPrice  CustomerID         Country  Revenue  \n",
       "0 2010-01-12 08:26:00       2.55     17850.0  United Kingdom    15.30  \n",
       "1 2010-01-12 08:26:00       3.39     17850.0  United Kingdom    20.34  \n",
       "2 2010-01-12 08:26:00       2.75     17850.0  United Kingdom    22.00  \n",
       "3 2010-01-12 08:26:00       3.39     17850.0  United Kingdom    20.34  \n",
       "4 2010-01-12 08:26:00       3.39     17850.0  United Kingdom    20.34  "
      ]
     },
     "execution_count": 2,
     "metadata": {},
     "output_type": "execute_result"
    }
   ],
   "source": [
    "# Load dataset\n",
    "df = pd.read_csv('data.csv', encoding='ISO-8859-1')\n",
    "# Keep only valid transactions\n",
    "df.dropna(subset=['CustomerID'], inplace=True)\n",
    "df = df[df['Quantity'] > 0]\n",
    "df['InvoiceDate'] = pd.to_datetime(df['InvoiceDate'], dayfirst=True)\n",
    "df['Revenue'] = df['Quantity'] * df['UnitPrice']\n",
    "df.head()"
   ]
  },
  {
   "cell_type": "code",
   "execution_count": 3,
   "id": "e94ecf8b",
   "metadata": {},
   "outputs": [
    {
     "data": {
      "text/plain": [
       "Timestamp('2011-12-11 17:19:00')"
      ]
     },
     "execution_count": 3,
     "metadata": {},
     "output_type": "execute_result"
    }
   ],
   "source": [
    "# Define snapshot date for recency (one day after last invoice)\n",
    "snapshot_date = df['InvoiceDate'].max() + timedelta(days=1)\n",
    "snapshot_date"
   ]
  },
  {
   "cell_type": "code",
   "execution_count": 4,
   "id": "cc6e6e4a",
   "metadata": {},
   "outputs": [
    {
     "data": {
      "text/html": [
       "<div>\n",
       "<style scoped>\n",
       "    .dataframe tbody tr th:only-of-type {\n",
       "        vertical-align: middle;\n",
       "    }\n",
       "\n",
       "    .dataframe tbody tr th {\n",
       "        vertical-align: top;\n",
       "    }\n",
       "\n",
       "    .dataframe thead th {\n",
       "        text-align: right;\n",
       "    }\n",
       "</style>\n",
       "<table border=\"1\" class=\"dataframe\">\n",
       "  <thead>\n",
       "    <tr style=\"text-align: right;\">\n",
       "      <th></th>\n",
       "      <th>Recency</th>\n",
       "      <th>Frequency</th>\n",
       "      <th>Monetary</th>\n",
       "    </tr>\n",
       "    <tr>\n",
       "      <th>CustomerID</th>\n",
       "      <th></th>\n",
       "      <th></th>\n",
       "      <th></th>\n",
       "    </tr>\n",
       "  </thead>\n",
       "  <tbody>\n",
       "    <tr>\n",
       "      <th>12346.0</th>\n",
       "      <td>327</td>\n",
       "      <td>1</td>\n",
       "      <td>77183.60</td>\n",
       "    </tr>\n",
       "    <tr>\n",
       "      <th>12347.0</th>\n",
       "      <td>41</td>\n",
       "      <td>7</td>\n",
       "      <td>4310.00</td>\n",
       "    </tr>\n",
       "    <tr>\n",
       "      <th>12348.0</th>\n",
       "      <td>77</td>\n",
       "      <td>4</td>\n",
       "      <td>1797.24</td>\n",
       "    </tr>\n",
       "    <tr>\n",
       "      <th>12349.0</th>\n",
       "      <td>20</td>\n",
       "      <td>1</td>\n",
       "      <td>1757.55</td>\n",
       "    </tr>\n",
       "    <tr>\n",
       "      <th>12350.0</th>\n",
       "      <td>312</td>\n",
       "      <td>1</td>\n",
       "      <td>334.40</td>\n",
       "    </tr>\n",
       "  </tbody>\n",
       "</table>\n",
       "</div>"
      ],
      "text/plain": [
       "            Recency  Frequency  Monetary\n",
       "CustomerID                              \n",
       "12346.0         327          1  77183.60\n",
       "12347.0          41          7   4310.00\n",
       "12348.0          77          4   1797.24\n",
       "12349.0          20          1   1757.55\n",
       "12350.0         312          1    334.40"
      ]
     },
     "execution_count": 4,
     "metadata": {},
     "output_type": "execute_result"
    }
   ],
   "source": [
    "# Aggregate RFM metrics by CustomerID\n",
    "rfm = df.groupby('CustomerID').agg({\n",
    "    'InvoiceDate': lambda x: (snapshot_date - x.max()).days,\n",
    "    'InvoiceNo': 'nunique',\n",
    "    'Revenue': 'sum'\n",
    "})\n",
    "rfm.rename(columns={\n",
    "    'InvoiceDate': 'Recency',\n",
    "    'InvoiceNo': 'Frequency',\n",
    "    'Revenue': 'Monetary'\n",
    "}, inplace=True)\n",
    "rfm.head()"
   ]
  },
  {
   "cell_type": "code",
   "execution_count": 5,
   "id": "0c34cae5",
   "metadata": {},
   "outputs": [
    {
     "data": {
      "text/html": [
       "<div>\n",
       "<style scoped>\n",
       "    .dataframe tbody tr th:only-of-type {\n",
       "        vertical-align: middle;\n",
       "    }\n",
       "\n",
       "    .dataframe tbody tr th {\n",
       "        vertical-align: top;\n",
       "    }\n",
       "\n",
       "    .dataframe thead th {\n",
       "        text-align: right;\n",
       "    }\n",
       "</style>\n",
       "<table border=\"1\" class=\"dataframe\">\n",
       "  <thead>\n",
       "    <tr style=\"text-align: right;\">\n",
       "      <th></th>\n",
       "      <th>Recency</th>\n",
       "      <th>Frequency</th>\n",
       "      <th>Monetary</th>\n",
       "      <th>R_score</th>\n",
       "      <th>F_score</th>\n",
       "      <th>M_score</th>\n",
       "      <th>RFM_Segment</th>\n",
       "      <th>RFM_Score</th>\n",
       "    </tr>\n",
       "    <tr>\n",
       "      <th>CustomerID</th>\n",
       "      <th></th>\n",
       "      <th></th>\n",
       "      <th></th>\n",
       "      <th></th>\n",
       "      <th></th>\n",
       "      <th></th>\n",
       "      <th></th>\n",
       "      <th></th>\n",
       "    </tr>\n",
       "  </thead>\n",
       "  <tbody>\n",
       "    <tr>\n",
       "      <th>12346.0</th>\n",
       "      <td>327</td>\n",
       "      <td>1</td>\n",
       "      <td>77183.60</td>\n",
       "      <td>1</td>\n",
       "      <td>1</td>\n",
       "      <td>4</td>\n",
       "      <td>114</td>\n",
       "      <td>6</td>\n",
       "    </tr>\n",
       "    <tr>\n",
       "      <th>12347.0</th>\n",
       "      <td>41</td>\n",
       "      <td>7</td>\n",
       "      <td>4310.00</td>\n",
       "      <td>3</td>\n",
       "      <td>3</td>\n",
       "      <td>4</td>\n",
       "      <td>334</td>\n",
       "      <td>10</td>\n",
       "    </tr>\n",
       "    <tr>\n",
       "      <th>12348.0</th>\n",
       "      <td>77</td>\n",
       "      <td>4</td>\n",
       "      <td>1797.24</td>\n",
       "      <td>2</td>\n",
       "      <td>2</td>\n",
       "      <td>4</td>\n",
       "      <td>224</td>\n",
       "      <td>8</td>\n",
       "    </tr>\n",
       "    <tr>\n",
       "      <th>12349.0</th>\n",
       "      <td>20</td>\n",
       "      <td>1</td>\n",
       "      <td>1757.55</td>\n",
       "      <td>4</td>\n",
       "      <td>1</td>\n",
       "      <td>4</td>\n",
       "      <td>414</td>\n",
       "      <td>9</td>\n",
       "    </tr>\n",
       "    <tr>\n",
       "      <th>12350.0</th>\n",
       "      <td>312</td>\n",
       "      <td>1</td>\n",
       "      <td>334.40</td>\n",
       "      <td>1</td>\n",
       "      <td>1</td>\n",
       "      <td>2</td>\n",
       "      <td>112</td>\n",
       "      <td>4</td>\n",
       "    </tr>\n",
       "  </tbody>\n",
       "</table>\n",
       "</div>"
      ],
      "text/plain": [
       "            Recency  Frequency  Monetary  R_score  F_score  M_score  \\\n",
       "CustomerID                                                            \n",
       "12346.0         327          1  77183.60        1        1        4   \n",
       "12347.0          41          7   4310.00        3        3        4   \n",
       "12348.0          77          4   1797.24        2        2        4   \n",
       "12349.0          20          1   1757.55        4        1        4   \n",
       "12350.0         312          1    334.40        1        1        2   \n",
       "\n",
       "           RFM_Segment  RFM_Score  \n",
       "CustomerID                         \n",
       "12346.0            114          6  \n",
       "12347.0            334         10  \n",
       "12348.0            224          8  \n",
       "12349.0            414          9  \n",
       "12350.0            112          4  "
      ]
     },
     "execution_count": 5,
     "metadata": {},
     "output_type": "execute_result"
    }
   ],
   "source": [
    "# --- Scoring with automatic binning and numeric codes ---\n",
    "# Recency: more recent → higher score\n",
    "r_cat = pd.qcut(rfm['Recency'], q=4, duplicates='drop')\n",
    "rfm['R_score'] = r_cat.cat.codes + 1            # codes go 0..n_bins-1, so +1 gives 1..n_bins\n",
    "rfm['R_score'] = rfm['R_score'].max() + 1 - rfm['R_score']\n",
    "#    ↑ invert so that smallest Recency (most recent) => highest score\n",
    "\n",
    "# Frequency: higher → higher score\n",
    "f_cat = pd.qcut(rfm['Frequency'], q=4, duplicates='drop')\n",
    "rfm['F_score'] = f_cat.cat.codes + 1\n",
    "\n",
    "# Monetary: higher → higher score\n",
    "m_cat = pd.qcut(rfm['Monetary'], q=4, duplicates='drop')\n",
    "rfm['M_score'] = m_cat.cat.codes + 1\n",
    "\n",
    "# Combine\n",
    "rfm['RFM_Segment'] = (\n",
    "    rfm['R_score'].astype(str)\n",
    "    + rfm['F_score'].astype(str)\n",
    "    + rfm['M_score'].astype(str)\n",
    ")\n",
    "rfm['RFM_Score'] = rfm[['R_score','F_score','M_score']].sum(axis=1)\n",
    "\n",
    "rfm.head()\n"
   ]
  },
  {
   "cell_type": "markdown",
   "id": "8a32ccbf",
   "metadata": {},
   "source": [
    "## Segment Definitions\n",
    "- **Champions**: RFM_Score ≥ 9 – Most valuable and loyal customers.\n",
    "- **Loyal Customers**: 6 ≤ RFM_Score < 9 – Frequent buyers with solid revenue.\n",
    "- **Potential Loyalists**: 4 ≤ RFM_Score < 6 – Good recent engagement but lower spend.\n",
    "- **At Risk**: RFM_Score < 4 – Lapsed or low-value customers.\n"
   ]
  },
  {
   "cell_type": "code",
   "execution_count": 6,
   "id": "d7bd3fb7",
   "metadata": {},
   "outputs": [
    {
     "data": {
      "text/plain": [
       "Loyal Customers        1464\n",
       "Champions              1217\n",
       "Potential Loyalists    1152\n",
       "At Risk                 506\n",
       "Name: Segment, dtype: int64"
      ]
     },
     "execution_count": 6,
     "metadata": {},
     "output_type": "execute_result"
    }
   ],
   "source": [
    "def assign_segment(row):\n",
    "    if row['RFM_Score'] >= 9:\n",
    "        return 'Champions'\n",
    "    elif row['RFM_Score'] >= 6:\n",
    "        return 'Loyal Customers'\n",
    "    elif row['RFM_Score'] >= 4:\n",
    "        return 'Potential Loyalists'\n",
    "    else:\n",
    "        return 'At Risk'\n",
    "\n",
    "rfm['Segment'] = rfm.apply(assign_segment, axis=1)\n",
    "rfm['Segment'].value_counts()"
   ]
  },
  {
   "cell_type": "code",
   "execution_count": 7,
   "id": "e8851b66",
   "metadata": {},
   "outputs": [
    {
     "data": {
      "image/png": "[encoded data removed]",
      "text/plain": [
       "<Figure size 432x288 with 1 Axes>"
      ]
     },
     "metadata": {
      "needs_background": "light"
     },
     "output_type": "display_data"
    },
    {
     "data": {
      "image/png": "[encoded data removed]",
      "text/plain": [
       "<Figure size 432x288 with 1 Axes>"
      ]
     },
     "metadata": {
      "needs_background": "light"
     },
     "output_type": "display_data"
    },
    {
     "data": {
      "image/png": "[encoded data removed]",
      "text/plain": [
       "<Figure size 432x288 with 1 Axes>"
      ]
     },
     "metadata": {
      "needs_background": "light"
     },
     "output_type": "display_data"
    },
    {
     "data": {
      "image/png": "[encoded data removed]",
      "text/plain": [
       "<Figure size 432x288 with 1 Axes>"
      ]
     },
     "metadata": {
      "needs_background": "light"
     },
     "output_type": "display_data"
    },
    {
     "data": {
      "image/png": "[encoded data removed]",
      "text/plain": [
       "<Figure size 432x288 with 1 Axes>"
      ]
     },
     "metadata": {
      "needs_background": "light"
     },
     "output_type": "display_data"
    }
   ],
   "source": [
    "import matplotlib.pyplot as plt\n",
    "\n",
    "# Assuming `rfm` DataFrame is already defined from the previous RFM computation\n",
    "\n",
    "# 1. Distribution of R, F, M scores\n",
    "plt.figure()\n",
    "rfm['R_score'].hist(bins=rfm['R_score'].nunique())\n",
    "plt.title('Recency Score Distribution')\n",
    "plt.xlabel('Recency Score')\n",
    "plt.ylabel('Number of Customers')\n",
    "plt.show()\n",
    "\n",
    "plt.figure()\n",
    "rfm['F_score'].hist(bins=rfm['F_score'].nunique())\n",
    "plt.title('Frequency Score Distribution')\n",
    "plt.xlabel('Frequency Score')\n",
    "plt.ylabel('Number of Customers')\n",
    "plt.show()\n",
    "\n",
    "plt.figure()\n",
    "rfm['M_score'].hist(bins=rfm['M_score'].nunique())\n",
    "plt.title('Monetary Score Distribution')\n",
    "plt.xlabel('Monetary Score')\n",
    "plt.ylabel('Number of Customers')\n",
    "plt.show()\n",
    "\n",
    "# 2. Customer segment counts\n",
    "plt.figure()\n",
    "rfm['Segment'].value_counts().plot(kind='bar')\n",
    "plt.title('Customer Segment Counts')\n",
    "plt.xlabel('Segment')\n",
    "plt.ylabel('Number of Customers')\n",
    "plt.show()\n",
    "\n",
    "# 3. Recency vs Monetary scatter, colored by segment (default color cycle)\n",
    "plt.figure()\n",
    "for seg, group in rfm.groupby('Segment'):\n",
    "    plt.scatter(group['Recency'], group['Monetary'], label=seg)\n",
    "plt.legend()\n",
    "plt.title('Recency vs Monetary by Segment')\n",
    "plt.xlabel('Recency (days since last purchase)')\n",
    "plt.ylabel('Monetary Value (total spent)')\n",
    "plt.show()\n"
   ]
  },
  {
   "cell_type": "markdown",
   "id": "112d0964",
   "metadata": {},
   "source": [
    "  # What Recency actually means (in our analysis):\n",
    "  Recency = number of days since last purchase\n",
    "\n",
    "So:\n",
    "\n",
    "- Lower Recency → More recent purchase (better!)\n",
    "\n",
    "- Higher Recency → Older purchase (worse)\n",
    "\n"
   ]
  },
  {
   "cell_type": "markdown",
   "id": "8a527c18",
   "metadata": {},
   "source": [
    "# Interpretation of the graph:\n",
    "- Left side (low Recency) = Customers who purchased recently\n",
    "\n",
    "- Right side (high Recency) = Customers who haven’t purchased in a long time\n",
    "\n",
    "- Top = High spenders, Bottom = Low spenders"
   ]
  },
  {
   "cell_type": "markdown",
   "id": "d0a6311b",
   "metadata": {},
   "source": [
    "| Quadrant     | Meaning                                | Action                               |\n",
    "|--------------|----------------------------------------|--------------------------------------|\n",
    "| Top-left     | Recent + High spend → Champions        | Keep them happy, offer VIP treatment |\n",
    "| Bottom-left  | Recent + Low spend → New or potential   | Encourage loyalty, cross-sell        |\n",
    "| Top-right    | Not recent + High spend → At Risk       | Win-back with special offers         |\n",
    "| Bottom-right | Not recent + Low spend → Inactive/low value | Low priority, bulk promos        |\n"
   ]
  },
  {
   "cell_type": "markdown",
   "id": "99ebd22c",
   "metadata": {},
   "source": [
    "## Conclusions & Business Recommendations\n",
    "- **Champions**: These top-tier customers should be rewarded with exclusive offers or early access to new products to maintain loyalty.\n",
    "- **Loyal Customers**: Implement a tiered loyalty program and personalized cross-sell campaigns to encourage increased spend.\n",
    "- **Potential Loyalists**: Offer targeted incentives (e.g., discount on next purchase) to boost their transaction frequency.\n",
    "- **At Risk**: Launch win-back campaigns (e.g., survey with discount code) to re-engage these customers before they churn.\n",
    "- **Overall**: Monitor RFM segment shifts over time to evaluate the effectiveness of marketing strategies and adjust thresholds as needed."
   ]
  },
  {
   "cell_type": "code",
   "execution_count": null,
   "id": "ac9108e1",
   "metadata": {},
   "outputs": [],
   "source": []
  }
 ],
 "metadata": {
  "kernelspec": {
   "display_name": "Python 3 (ipykernel)",
   "language": "python",
   "name": "python3"
  },
  "language_info": {
   "codemirror_mode": {
    "name": "ipython",
    "version": 3
   },
   "file_extension": ".py",
   "mimetype": "text/x-python",
   "name": "python",
   "nbconvert_exporter": "python",
   "pygments_lexer": "ipython3",
   "version": "3.9.7"
  }
 },
 "nbformat": 4,
 "nbformat_minor": 5
}
